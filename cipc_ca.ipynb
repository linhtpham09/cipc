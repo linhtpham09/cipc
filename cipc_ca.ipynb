{
 "cells": [
  {
   "cell_type": "code",
   "execution_count": 4,
   "metadata": {},
   "outputs": [],
   "source": [
    "import numpy as np \n",
    "import pandas as pd \n",
    "import re \n",
    "import matplotlib.pyplot as plt\n",
    "import geopandas as gpd\n",
    "import fiona\n",
    "from ipywidgets import widgets, interact, interactive, fixed, interact_manual\n",
    "from IPython.display import display\n",
    "import matplotlib.cm as cm"
   ]
  },
  {
   "cell_type": "code",
   "execution_count": 5,
   "metadata": {},
   "outputs": [],
   "source": [
    "from ipywidgets import IntSlider\n",
    "from ipywidgets.embed import embed_minimal_html"
   ]
  },
  {
   "cell_type": "code",
   "execution_count": 1,
   "metadata": {},
   "outputs": [],
   "source": [
    "#!jupyter nbextension enable --py widgetsnbextension --sys-prefix\n",
    "#!jupyter serverextension enable voila --sys-prefix"
   ]
  },
  {
   "cell_type": "code",
   "execution_count": null,
   "metadata": {},
   "outputs": [],
   "source": [
    "wdb = pd.read_excel('wdb_all.xlsx')\n",
    "wdb['Total Participants Exited'] = wdb['Total Participants Exited'].astype(int)\n",
    "wdb = wdb.dropna(axis = 1)"
   ]
  },
  {
   "cell_type": "markdown",
   "metadata": {},
   "source": [
    "# "
   ]
  },
  {
   "cell_type": "markdown",
   "metadata": {},
   "source": [
    "# overall"
   ]
  },
  {
   "cell_type": "code",
   "execution_count": null,
   "metadata": {},
   "outputs": [],
   "source": [
    "totals = wdb['Category'].values\n",
    "each = []\n",
    "for x in totals: \n",
    "    if x not in each: \n",
    "        each.append(x)"
   ]
  },
  {
   "cell_type": "code",
   "execution_count": null,
   "metadata": {},
   "outputs": [],
   "source": [
    "def alls(category_name): \n",
    "    for i in wdb.iterrows(): \n",
    "        name = wdb['Category'] == category_name\n",
    "        category_sheet = wdb[name]\n",
    "    return category_sheet"
   ]
  },
  {
   "cell_type": "code",
   "execution_count": null,
   "metadata": {},
   "outputs": [],
   "source": [
    "def wage(category_name): \n",
    "    avg_wage = alls(category_name)[['Median Wage']].sum()/alls(category_name).shape[0]\n",
    "    maximum = max(alls(category_name)[['Median Wage']].values)\n",
    "    minimum = min(alls(category_name)[['Median Wage']].values)\n",
    "    ranges = maximum-minimum \n",
    "    return print('Average Median Wage:', avg_wage), print('Max Median Wage:', maximum), print('Min Median Wage:', minimum), print('Wage Difference:',ranges)"
   ]
  },
  {
   "cell_type": "code",
   "execution_count": null,
   "metadata": {},
   "outputs": [],
   "source": [
    "_ = widgets.interact(wage, category_name = list(each))"
   ]
  },
  {
   "cell_type": "code",
   "execution_count": null,
   "metadata": {},
   "outputs": [],
   "source": [
    "def dropout(category_name): \n",
    "    df = pd.DataFrame(data = {\n",
    "        'Name': alls(category_name)['WDB NAME'].values, \n",
    "        'Num': (alls(category_name)['Total Participants Served']- alls(category_name)['Total Participants Exited']).values\n",
    "    })\n",
    "    #go back and look at the definitions \n",
    "    x = df['Name']\n",
    "    y = df['Num']\n",
    "    fig, ax = plt.subplots(figsize=(18, 10))\n",
    "    bars = ax.barh(x,y, 1)\n",
    "    for bar in bars:\n",
    "        width = bar.get_width() #Previously we got the height\n",
    "        label_y_pos = bar.get_y() + bar.get_height() / 4\n",
    "        ax.text(width, label_y_pos, s=f'{width}', va='center')\n",
    "    for tick in ax.yaxis.get_major_ticks():\n",
    "        tick.label.set_fontsize(12)\n",
    "    for bar in bars[::2]:\n",
    "        bar.set_color('r')\n",
    "    return plt.gca().invert_yaxis()\n",
    "    "
   ]
  },
  {
   "cell_type": "code",
   "execution_count": null,
   "metadata": {},
   "outputs": [],
   "source": [
    "_ = widgets.interact(dropout, category_name = list(each))"
   ]
  },
  {
   "cell_type": "markdown",
   "metadata": {},
   "source": [
    "# For each wdb zone"
   ]
  },
  {
   "cell_type": "code",
   "execution_count": null,
   "metadata": {},
   "outputs": [],
   "source": [
    "trends = wdb['WDB NAME'].values\n",
    "output = []\n",
    "for x in trends:\n",
    "    if x not in output:\n",
    "        output.append(x)"
   ]
  },
  {
   "cell_type": "code",
   "execution_count": null,
   "metadata": {},
   "outputs": [],
   "source": [
    "#creates general sheet for the WDB zone \n",
    "def find(wdb_name): \n",
    "    for i in wdb.iterrows(): \n",
    "        name = wdb['WDB NAME'] == wdb_name\n",
    "        name_wdb = wdb[name]\n",
    "    return name_wdb"
   ]
  },
  {
   "cell_type": "code",
   "execution_count": null,
   "metadata": {},
   "outputs": [],
   "source": [
    "#creates each category sheet for the WDB zone \n",
    "def gender_separate(sheet): \n",
    "    return sheet.iloc[0:2, :]\n",
    "def age_separate(sheet): \n",
    "    return sheet.iloc[2:8, :]\n",
    "def race_separate(sheet): \n",
    "    return sheet.iloc[8:15, :]\n",
    "def obstacle_separate(sheet): \n",
    "    return sheet.iloc[15:, :]"
   ]
  },
  {
   "cell_type": "markdown",
   "metadata": {},
   "source": [
    "# "
   ]
  },
  {
   "cell_type": "code",
   "execution_count": null,
   "metadata": {},
   "outputs": [],
   "source": [
    "#creates pie in general \n",
    "def bah(zone): \n",
    "    return zone.plot.barh(x = 'Category', y = \"Total Participants Served\")"
   ]
  },
  {
   "cell_type": "code",
   "execution_count": null,
   "metadata": {},
   "outputs": [],
   "source": [
    "#creates specific pies for each category \n",
    "def argh(wdb): \n",
    "    gender = bah(gender_separate(wdb))\n",
    "    age = bah(age_separate(wdb))\n",
    "    race = bah(race_separate(wdb))\n",
    "    obstacle = bah(obstacle_separate(wdb))\n",
    "    return gender, age, race, obstacle"
   ]
  },
  {
   "cell_type": "code",
   "execution_count": null,
   "metadata": {},
   "outputs": [],
   "source": [
    "#creates all pies for each category by putting in zone name \n",
    "def bah4ever(WDB): \n",
    "    zone_sheet = find(WDB)\n",
    "    return argh(zone_sheet)"
   ]
  },
  {
   "cell_type": "code",
   "execution_count": null,
   "metadata": {},
   "outputs": [],
   "source": [
    "_ = widgets.interact(bah4ever, WDB = list(output))"
   ]
  },
  {
   "cell_type": "markdown",
   "metadata": {},
   "source": [
    "# "
   ]
  },
  {
   "cell_type": "code",
   "execution_count": null,
   "metadata": {},
   "outputs": [],
   "source": [
    "#creates pie in general \n",
    "def pies4all(zone): \n",
    "    zone.plot.pie(y = \"Total Participants Served\",  autopct='%1.1f%%', labels = None, figsize=(18,10))\n",
    "    plt.axis('equal')\n",
    "    return plt.legend(zone.loc[:, 'Category'].values, loc = \"upper center\", bbox_to_anchor = (0.5, 1.30), ncol = 2)"
   ]
  },
  {
   "cell_type": "code",
   "execution_count": null,
   "metadata": {},
   "outputs": [],
   "source": [
    "#creates specific pies for each category \n",
    "def pies(wdb): \n",
    "    gender = pies4all(gender_separate(wdb))\n",
    "    age = pies4all(age_separate(wdb))\n",
    "    race = pies4all(race_separate(wdb))\n",
    "    obstacle = pies4all(obstacle_separate(wdb))\n",
    "    return gender, age, race, obstacle"
   ]
  },
  {
   "cell_type": "code",
   "execution_count": null,
   "metadata": {},
   "outputs": [],
   "source": [
    "#creates all pies for each category by putting in zone name \n",
    "def pies4ever(WDB): \n",
    "    zone_sheet = find(WDB)\n",
    "    return pies(zone_sheet)"
   ]
  },
  {
   "cell_type": "code",
   "execution_count": null,
   "metadata": {},
   "outputs": [],
   "source": [
    "trends = wdb['WDB NAME'].values\n",
    "output = []\n",
    "for x in trends:\n",
    "    if x not in output:\n",
    "        output.append(x)"
   ]
  },
  {
   "cell_type": "code",
   "execution_count": null,
   "metadata": {},
   "outputs": [],
   "source": [
    "def bars4all(zone):\n",
    "    return zone.plot.barh(x = 'Category', y = ['Total Participants Exited', 'Total Participants Served'])"
   ]
  },
  {
   "cell_type": "code",
   "execution_count": null,
   "metadata": {},
   "outputs": [],
   "source": [
    "def bars(wdb): \n",
    "    gender = bars4all(gender_separate(wdb))\n",
    "    age = bars4all(age_separate(wdb))\n",
    "    race = bars4all(race_separate(wdb))\n",
    "    obstacle = bars4all(obstacle_separate(wdb))\n",
    "    return gender, age, race, obstacle"
   ]
  },
  {
   "cell_type": "code",
   "execution_count": null,
   "metadata": {},
   "outputs": [],
   "source": [
    "def bars4ever(WDB): \n",
    "    zone_sheet = find(WDB)\n",
    "    return bars(zone_sheet)"
   ]
  },
  {
   "cell_type": "code",
   "execution_count": null,
   "metadata": {},
   "outputs": [],
   "source": [
    "def scatter4all(zone):\n",
    "    return zone.plot.scatter(x = 'Category', y = 'Median Wage', s= 20*20)"
   ]
  },
  {
   "cell_type": "code",
   "execution_count": null,
   "metadata": {},
   "outputs": [],
   "source": [
    "def scatters(wdb): \n",
    "    gender = scatter4all(gender_separate(wdb))\n",
    "    age = scatter4all(age_separate(wdb))\n",
    "    race = scatter4all(race_separate(wdb))\n",
    "    obstacle = scatter4all(obstacle_separate(wdb))\n",
    "    return gender, age, race, obstacle"
   ]
  },
  {
   "cell_type": "code",
   "execution_count": null,
   "metadata": {},
   "outputs": [],
   "source": [
    "def scatter4ever(WDB): \n",
    "    zone_sheet = find(WDB)\n",
    "    return scatters(zone_sheet)"
   ]
  },
  {
   "cell_type": "code",
   "execution_count": null,
   "metadata": {},
   "outputs": [],
   "source": [
    "_ = widgets.interact(scatter4ever, WDB = list(output))"
   ]
  },
  {
   "cell_type": "markdown",
   "metadata": {},
   "source": [
    "N is the Employment Number "
   ]
  },
  {
   "cell_type": "code",
   "execution_count": null,
   "metadata": {},
   "outputs": [],
   "source": [
    "_ = widgets.interact(bars4ever, WDB = list(output))"
   ]
  },
  {
   "cell_type": "code",
   "execution_count": 2,
   "metadata": {},
   "outputs": [],
   "source": [
    "!pip freeze > requirements.txt"
   ]
  },
  {
   "cell_type": "code",
   "execution_count": null,
   "metadata": {},
   "outputs": [],
   "source": []
  }
 ],
 "metadata": {
  "kernelspec": {
   "display_name": "Python 3",
   "language": "python",
   "name": "python3"
  },
  "language_info": {
   "codemirror_mode": {
    "name": "ipython",
    "version": 3
   },
   "file_extension": ".py",
   "mimetype": "text/x-python",
   "name": "python",
   "nbconvert_exporter": "python",
   "pygments_lexer": "ipython3",
   "version": "3.8.5"
  },
  "widgets": {
   "application/vnd.jupyter.widget-state+json": {
    "state": {
     "1160caf3f0ab42a29570aa4657db8847": {
      "model_module": "@jupyter-widgets/base",
      "model_module_version": "1.2.0",
      "model_name": "LayoutModel",
      "state": {}
     },
     "208b1d696fb545dfaf8385f6481c526d": {
      "model_module": "@jupyter-widgets/controls",
      "model_module_version": "1.5.0",
      "model_name": "DescriptionStyleModel",
      "state": {
       "description_width": ""
      }
     },
     "410e6506cc5e4cc680bdde7e76894996": {
      "model_module": "@jupyter-widgets/output",
      "model_module_version": "1.0.0",
      "model_name": "OutputModel",
      "state": {
       "layout": "IPY_MODEL_be255ec2bb1d4fd4a01e775ef15c83c5",
       "outputs": [
        {
         "name": "stdout",
         "output_type": "stream",
         "text": "Average Median Wage: Median Wage    7048.288889\ndtype: float64\nMax Median Wage: [10395]\nMin Median Wage: [4411]\nWage Difference: [5984]\n"
        },
        {
         "data": {
          "text/plain": "(None, None, None, None)"
         },
         "metadata": {},
         "output_type": "display_data"
        }
       ]
      }
     },
     "4a6b64e7160b443fb779c0ecc6d49bdd": {
      "model_module": "@jupyter-widgets/base",
      "model_module_version": "1.2.0",
      "model_name": "LayoutModel",
      "state": {}
     },
     "4a8f9ccfc4af4c49bcaab7f3bfa953cb": {
      "model_module": "@jupyter-widgets/base",
      "model_module_version": "1.2.0",
      "model_name": "LayoutModel",
      "state": {}
     },
     "6c01c100c6554c81a87f380f6291dd8c": {
      "model_module": "@jupyter-widgets/controls",
      "model_module_version": "1.5.0",
      "model_name": "DropdownModel",
      "state": {
       "_options_labels": [
        "Female",
        "Male",
        "16-18",
        "19-24",
        "25-44",
        "45-54",
        "55-59",
        "Over 60",
        "American Indian/Alaska Native ",
        "Asian",
        "Black/African American",
        "Hispanic/Latino",
        "Native Hawaiian/Pacific Islander",
        "White",
        "More Than One Race ",
        "Displaced Homemakers",
        "ELL",
        "TANF",
        "Ex-offenders",
        "Homeless Individuals",
        "Long Term Unemployed ",
        "Low Income Individuals ",
        "Individuals with Disabilities",
        "Single Parents"
       ],
       "description": "category_name",
       "index": 0,
       "layout": "IPY_MODEL_1160caf3f0ab42a29570aa4657db8847",
       "style": "IPY_MODEL_208b1d696fb545dfaf8385f6481c526d"
      }
     },
     "be255ec2bb1d4fd4a01e775ef15c83c5": {
      "model_module": "@jupyter-widgets/base",
      "model_module_version": "1.2.0",
      "model_name": "LayoutModel",
      "state": {}
     },
     "c60ae620f5d1492391d13b2e40b5ba45": {
      "model_module": "@jupyter-widgets/controls",
      "model_module_version": "1.5.0",
      "model_name": "DropdownModel",
      "state": {
       "_options_labels": [
        "Female",
        "Male",
        "16-18",
        "19-24",
        "25-44",
        "45-54",
        "55-59",
        "Over 60",
        "American Indian/Alaska Native ",
        "Asian",
        "Black/African American",
        "Hispanic/Latino",
        "Native Hawaiian/Pacific Islander",
        "White",
        "More Than One Race ",
        "Displaced Homemakers",
        "ELL",
        "TANF",
        "Ex-offenders",
        "Homeless Individuals",
        "Long Term Unemployed ",
        "Low Income Individuals ",
        "Individuals with Disabilities",
        "Single Parents"
       ],
       "description": "category_name",
       "index": 0,
       "layout": "IPY_MODEL_4a8f9ccfc4af4c49bcaab7f3bfa953cb",
       "style": "IPY_MODEL_d60b1b4b3d85448581b9cdb3102a36d3"
      }
     },
     "d60b1b4b3d85448581b9cdb3102a36d3": {
      "model_module": "@jupyter-widgets/controls",
      "model_module_version": "1.5.0",
      "model_name": "DescriptionStyleModel",
      "state": {
       "description_width": ""
      }
     },
     "d7252efc1f9741f6af05862dd233ee6d": {
      "model_module": "@jupyter-widgets/output",
      "model_module_version": "1.0.0",
      "model_name": "OutputModel",
      "state": {
       "layout": "IPY_MODEL_f7a2c3ddc4344280ac3f16706cd35490",
       "outputs": [
        {
         "data": {
          "image/png": "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\n",
          "text/plain": "<Figure size 1296x720 with 1 Axes>"
         },
         "metadata": {
          "needs_background": "light"
         },
         "output_type": "display_data"
        }
       ]
      }
     },
     "eb2972028a0a4151a4eb3b0a33be99e3": {
      "model_module": "@jupyter-widgets/base",
      "model_module_version": "1.2.0",
      "model_name": "LayoutModel",
      "state": {}
     },
     "f04ab04b915a4f359e7dd53579417a72": {
      "model_module": "@jupyter-widgets/controls",
      "model_module_version": "1.5.0",
      "model_name": "VBoxModel",
      "state": {
       "_dom_classes": [
        "widget-interact"
       ],
       "children": [
        "IPY_MODEL_6c01c100c6554c81a87f380f6291dd8c",
        "IPY_MODEL_410e6506cc5e4cc680bdde7e76894996"
       ],
       "layout": "IPY_MODEL_eb2972028a0a4151a4eb3b0a33be99e3"
      }
     },
     "f7a2c3ddc4344280ac3f16706cd35490": {
      "model_module": "@jupyter-widgets/base",
      "model_module_version": "1.2.0",
      "model_name": "LayoutModel",
      "state": {}
     },
     "fd4b45d7b07842578d0ea63fc66bd7be": {
      "model_module": "@jupyter-widgets/controls",
      "model_module_version": "1.5.0",
      "model_name": "VBoxModel",
      "state": {
       "_dom_classes": [
        "widget-interact"
       ],
       "children": [
        "IPY_MODEL_c60ae620f5d1492391d13b2e40b5ba45",
        "IPY_MODEL_d7252efc1f9741f6af05862dd233ee6d"
       ],
       "layout": "IPY_MODEL_4a6b64e7160b443fb779c0ecc6d49bdd"
      }
     }
    },
    "version_major": 2,
    "version_minor": 0
   }
  }
 },
 "nbformat": 4,
 "nbformat_minor": 4
}
